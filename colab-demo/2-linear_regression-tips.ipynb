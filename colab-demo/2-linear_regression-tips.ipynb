{
  "nbformat": 4,
  "nbformat_minor": 0,
  "metadata": {
    "colab": {
      "name": "linear-regression_tips.ipynb",
      "version": "0.3.2",
      "provenance": [],
      "collapsed_sections": []
    },
    "kernelspec": {
      "display_name": "Python 3",
      "language": "python",
      "name": "python3"
    }
  },
  "cells": [
    {
      "metadata": {
        "id": "O0i0E-F6mPAZ",
        "colab_type": "text"
      },
      "cell_type": "markdown",
      "source": [
        "# Linear Regression\n",
        "\n"
      ]
    },
    {
      "metadata": {
        "id": "kEYbtmPCmPAa",
        "colab_type": "code",
        "colab": {}
      },
      "cell_type": "code",
      "source": [
        "%matplotlib inline\n",
        "import pandas as pd\n",
        "import numpy as np\n",
        "import matplotlib.pyplot as plt"
      ],
      "execution_count": 0,
      "outputs": []
    },
    {
      "metadata": {
        "id": "DcVVORpQmPAc",
        "colab_type": "code",
        "colab": {}
      },
      "cell_type": "code",
      "source": [
        "tips_data = pd.read_csv('https://s3.amazonaws.com/elephantscale-public/data/tips/bill-and-tips-sample.csv')\n",
        "print(\"records size: \", tips_data.size)\n",
        "tips_data"
      ],
      "execution_count": 0,
      "outputs": []
    },
    {
      "metadata": {
        "id": "mQ5IkvzxmPAg",
        "colab_type": "code",
        "colab": {}
      },
      "cell_type": "code",
      "source": [
        "print(type(tips_data['bill']))\n",
        "\n",
        "# don't forget the double brackets!\n",
        "# x is a dataframe\n",
        "x = tips_data[['bill']]\n",
        "print(type(tips_data[['bill']]))"
      ],
      "execution_count": 0,
      "outputs": []
    },
    {
      "metadata": {
        "id": "Th1In9XjmPAj",
        "colab_type": "code",
        "colab": {}
      },
      "cell_type": "code",
      "source": [
        "# don't forget the double brackets!\n",
        "y = tips_data[['tip']]"
      ],
      "execution_count": 0,
      "outputs": []
    },
    {
      "metadata": {
        "id": "dbkC9dZjmPAl",
        "colab_type": "code",
        "colab": {}
      },
      "cell_type": "code",
      "source": [
        "from sklearn.model_selection import train_test_split\n",
        "# Split X and y into X_\n",
        "x_train, x_test, y_train, y_test = train_test_split(x, y, test_size=0.2, random_state=1)\n",
        "\n",
        "print (\"train records: \", x_train.size)\n",
        "print(\"test records: \", x_test.size)\n"
      ],
      "execution_count": 0,
      "outputs": []
    },
    {
      "metadata": {
        "id": "bm6rNVq2mPAo",
        "colab_type": "code",
        "colab": {}
      },
      "cell_type": "code",
      "source": [
        "## Using train/test\n",
        "from sklearn.linear_model import LinearRegression\n",
        "\n",
        "regression_model = LinearRegression(fit_intercept=True)\n",
        "regression_model.fit(x_train, y_train)\n",
        "print(regression_model)\n",
        "\n",
        "print(\"coef : \", regression_model.coef_)\n",
        "print(\"intercept : \", regression_model.intercept_)\n",
        "\n",
        "r_2 = regression_model.score(x_test, y_test)\n",
        "print(\"r^2 = \", r_2)"
      ],
      "execution_count": 0,
      "outputs": []
    },
    {
      "metadata": {
        "id": "rAU9QiKTmPAr",
        "colab_type": "code",
        "colab": {}
      },
      "cell_type": "code",
      "source": [
        "## Using the full dataset\n",
        "## Using train/test\n",
        "from sklearn.linear_model import LinearRegression\n",
        "\n",
        "regression_model = LinearRegression(fit_intercept=True)\n",
        "regression_model.fit(x, y)\n",
        "print(regression_model)\n",
        "\n",
        "print(\"coef : \", regression_model.coef_)\n",
        "print(\"intercept : \", regression_model.intercept_)\n",
        "\n",
        "r_2 = regression_model.score(x_test, y_test)\n",
        "print(\"r^2 = \", r_2)"
      ],
      "execution_count": 0,
      "outputs": []
    },
    {
      "metadata": {
        "id": "iWK5ENzkmPAv",
        "colab_type": "code",
        "colab": {}
      },
      "cell_type": "code",
      "source": [
        "## RMSE\n",
        "from sklearn.metrics import mean_squared_error\n",
        "import math\n",
        "\n",
        "y_predict = regression_model.predict(x)\n",
        "\n",
        "regression_model_mse = mean_squared_error(y_predict, y)\n",
        "\n",
        "print(\"mse :  \", regression_model_mse)\n",
        "print(\"rmse : \", math.sqrt(regression_model_mse))"
      ],
      "execution_count": 0,
      "outputs": []
    },
    {
      "metadata": {
        "id": "la3MjUnzmPAz",
        "colab_type": "code",
        "colab": {}
      },
      "cell_type": "code",
      "source": [
        ""
      ],
      "execution_count": 0,
      "outputs": []
    }
  ]
}