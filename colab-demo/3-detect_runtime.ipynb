{
  "nbformat": 4,
  "nbformat_minor": 0,
  "metadata": {
    "colab": {
      "name": "detect-runtime.ipynb",
      "version": "0.3.2",
      "provenance": [],
      "collapsed_sections": []
    },
    "kernelspec": {
      "name": "python3",
      "display_name": "Python 3"
    }
  },
  "cells": [
    {
      "metadata": {
        "id": "P4y6MRKmnd-z",
        "colab_type": "text"
      },
      "cell_type": "markdown",
      "source": [
        "# Detect Runtimes\n",
        "\n",
        "This script will print out GPU / TPU details if they are detected.\n",
        "\n",
        "- Change runtime to GPU / TPU\n",
        "- Run-All"
      ]
    },
    {
      "metadata": {
        "id": "YQfn79RpoTr2",
        "colab_type": "text"
      },
      "cell_type": "markdown",
      "source": [
        "##  GPU Detection"
      ]
    },
    {
      "metadata": {
        "id": "3O3UGc5Ueurl",
        "colab_type": "code",
        "colab": {}
      },
      "cell_type": "code",
      "source": [
        "from tensorflow.python.client import device_lib\n",
        "print(device_lib.list_local_devices())"
      ],
      "execution_count": 0,
      "outputs": []
    },
    {
      "metadata": {
        "id": "UaRAhx7VfOLS",
        "colab_type": "code",
        "colab": {}
      },
      "cell_type": "code",
      "source": [
        "# using Keras\n",
        "from keras import backend as K\n",
        "print(K.tensorflow_backend._get_available_gpus())"
      ],
      "execution_count": 0,
      "outputs": []
    },
    {
      "metadata": {
        "id": "Sr9wsueCoemX",
        "colab_type": "text"
      },
      "cell_type": "markdown",
      "source": [
        "## TPU Detection"
      ]
    },
    {
      "metadata": {
        "id": "oxgYskeXfUBT",
        "colab_type": "code",
        "colab": {}
      },
      "cell_type": "code",
      "source": [
        "import os\n",
        "\n",
        "try:\n",
        " device_name = os.environ['COLAB_TPU_ADDR']\n",
        " TPU_ADDRESS = 'grpc://' + device_name\n",
        " print('Found TPU at: {}'.format(TPU_ADDRESS))\n",
        "except KeyError:\n",
        " print('TPU not found')"
      ],
      "execution_count": 0,
      "outputs": []
    },
    {
      "metadata": {
        "id": "Ct0jkXPmgV13",
        "colab_type": "code",
        "colab": {}
      },
      "cell_type": "code",
      "source": [
        ""
      ],
      "execution_count": 0,
      "outputs": []
    }
  ]
}